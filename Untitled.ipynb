{
 "cells": [
  {
   "cell_type": "code",
   "execution_count": null,
   "id": "4f204f04-4575-4ca8-8569-d1bd48140089",
   "metadata": {},
   "outputs": [],
   "source": []
  }
 ],
 "metadata": {
  "kernelspec": {
   "display_name": "",
   "name": ""
  },
  "language_info": {
   "name": ""
  }
 },
 "nbformat": 4,
 "nbformat_minor": 5
}
